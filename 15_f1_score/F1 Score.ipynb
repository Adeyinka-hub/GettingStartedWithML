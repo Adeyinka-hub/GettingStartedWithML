{
 "cells": [
  {
   "cell_type": "code",
   "execution_count": 2,
   "metadata": {},
   "outputs": [
    {
     "name": "stdout",
     "output_type": "stream",
     "text": [
      "(3, 1, 2, 0)\n",
      "Precision :  0.6 \n",
      "Recall :  1.0\n",
      "F1 Score :  0.7499999999999999\n"
     ]
    }
   ],
   "source": [
    "y = [0,0,0,1,1,1]\n",
    "y_pred = [0,1,1,1,1,1]\n",
    "n = len(y)\n",
    "class Metrics:\n",
    "    tp = 0\n",
    "    tn = 0\n",
    "    fp = 0\n",
    "    fn = 0\n",
    "    precision = 0\n",
    "    recall = 0\n",
    "    def confusion_matrix(self):\n",
    "        for i in range(n):\n",
    "            if y[i]==1 and y_pred[i]==1:\n",
    "                self.tp += 1\n",
    "            if y[i]==0 and y_pred[i]==0:\n",
    "                self.tn += 1\n",
    "            if y[i]==0 and y_pred[i]==1:\n",
    "                self.fp += 1\n",
    "            if y[i]==1 and y_pred[i]==0:\n",
    "                self.fn += 1\n",
    "        return self.tp, self.tn, self.fp, self.fn\n",
    "    \n",
    "    def precision_recall(self):\n",
    "        self.precision = self.tp/(self.tp+self.fp)\n",
    "        self.recall = self.tp/(self.tp+self.fn)\n",
    "        print('Precision : ',self.precision, '\\nRecall : ',self.recall)\n",
    "        \n",
    "    def f1_score(self):\n",
    "        f1 = 2*(self.precision*self.recall)/(self.precision+self.recall)\n",
    "        print('F1 Score : ',f1)\n",
    "        \n",
    "model = Metrics()\n",
    "print(model.confusion_matrix())\n",
    "model.precision_recall()\n",
    "model.f1_score()\n"
   ]
  },
  {
   "cell_type": "code",
   "execution_count": 3,
   "metadata": {},
   "outputs": [
    {
     "data": {
      "text/plain": [
       "0.7499999999999999"
      ]
     },
     "execution_count": 3,
     "metadata": {},
     "output_type": "execute_result"
    }
   ],
   "source": [
    "from sklearn.metrics import f1_score\n",
    "f1_score(y, y_pred)"
   ]
  },
  {
   "cell_type": "code",
   "execution_count": null,
   "metadata": {},
   "outputs": [],
   "source": []
  }
 ],
 "metadata": {
  "kernelspec": {
   "display_name": "Python 3",
   "language": "python",
   "name": "python3"
  },
  "language_info": {
   "codemirror_mode": {
    "name": "ipython",
    "version": 3
   },
   "file_extension": ".py",
   "mimetype": "text/x-python",
   "name": "python",
   "nbconvert_exporter": "python",
   "pygments_lexer": "ipython3",
   "version": "3.7.2"
  }
 },
 "nbformat": 4,
 "nbformat_minor": 2
}
