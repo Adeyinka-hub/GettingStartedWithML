{
 "cells": [
  {
   "cell_type": "code",
   "execution_count": 2,
   "metadata": {},
   "outputs": [
    {
     "name": "stdout",
     "output_type": "stream",
     "text": [
      "(array([-0.2409201]), array([0.26150121]))\n",
      "(array([[0.47248545],\n",
      "       [0.53776089],\n",
      "       [0.57005666],\n",
      "       [0.70484142],\n",
      "       [0.64770326],\n",
      "       [0.76805063]]), array([0., 1., 1., 1., 1., 1.]))\n"
     ]
    },
    {
     "data": {
      "text/plain": [
       "array([[3, 0],\n",
       "       [2, 1]])"
      ]
     },
     "execution_count": 2,
     "metadata": {},
     "output_type": "execute_result"
    }
   ],
   "source": [
    "import numpy as np\n",
    "X = np.array([.50,1.50,2.00,4.25,3.25,5.50], ndmin=2).reshape((6,1))\n",
    "y = np.array([0,0,0,1,1,1])\n",
    "X_mean = np.mean(X)\n",
    "y_mean = np.mean(y)\n",
    "n = len(X)\n",
    "class LogisticRegression:\n",
    "    b0 = 0\n",
    "    b1 = 0\n",
    "    y_pred = np.array([])\n",
    "    true_positives = 0\n",
    "    true_negatives = 0\n",
    "    false_positives = 0\n",
    "    false_negatives = 0\n",
    "    def fit(self, X, y):\n",
    "        upward_function = 0\n",
    "        downward_function = 0\n",
    "        for i in range(n):\n",
    "            upward_function += (X[i]-X_mean)*(y[i]-y_mean)\n",
    "            downward_function += (X[i]-X_mean)**2\n",
    "        self.b1 = upward_function / downward_function\n",
    "        self.b0 = y_mean - (self.b1*X_mean)\n",
    "        return self.b0, self.b1\n",
    "    \n",
    "    def predict(self, Xi):\n",
    "        z = self.b0 + (self.b1*Xi)\n",
    "        sigmoid = 1/(1 + np.exp(-z))\n",
    "        for i in range(n):\n",
    "            if sigmoid[i] >= 0.5:\n",
    "                self.y_pred = np.append(self.y_pred, [1])\n",
    "            else:\n",
    "                self.y_pred = np.append(self.y_pred, [0])\n",
    "        return sigmoid, self.y_pred\n",
    "    \n",
    "    def confusion_matrix(self):\n",
    "        for i in range(n):\n",
    "            if y[i]==1 and self.y_pred[i]==1:\n",
    "                self.true_positives += 1\n",
    "            if y[i]==0 and self.y_pred[i]==0:\n",
    "                self.true_negatives += 1\n",
    "            if y[i]==1 and self.y_pred[i]==0:\n",
    "                self.false_negatives += 1\n",
    "            if y[i]==0 and self.y_pred[i]==1:\n",
    "                self.false_positives += 1\n",
    "                \n",
    "        matrix = np.array([self.true_positives, self.false_negatives, self.false_positives, self.true_negatives]).reshape((2,2))\n",
    "        return matrix\n",
    "\n",
    "model = LogisticRegression()\n",
    "print(model.fit(X, y))\n",
    "print(model.predict(X))\n",
    "model.confusion_matrix()\n",
    "\n",
    "        \n",
    "    \n"
   ]
  },
  {
   "cell_type": "code",
   "execution_count": 4,
   "metadata": {},
   "outputs": [
    {
     "data": {
      "text/plain": [
       "array([0, 0, 0, 1, 1, 1])"
      ]
     },
     "execution_count": 4,
     "metadata": {},
     "output_type": "execute_result"
    }
   ],
   "source": [
    "from sklearn.linear_model import LogisticRegression\n",
    "lr = LogisticRegression(penalty='none')\n",
    "lr.fit(X, y)\n",
    "y_pred = lr.predict(X)\n",
    "y_pred"
   ]
  },
  {
   "cell_type": "code",
   "execution_count": 5,
   "metadata": {},
   "outputs": [
    {
     "data": {
      "text/plain": [
       "array([[3, 0],\n",
       "       [0, 3]], dtype=int64)"
      ]
     },
     "execution_count": 5,
     "metadata": {},
     "output_type": "execute_result"
    }
   ],
   "source": [
    "from sklearn.metrics import confusion_matrix\n",
    "confusion_matrix(y, y_pred)"
   ]
  },
  {
   "cell_type": "code",
   "execution_count": 6,
   "metadata": {},
   "outputs": [
    {
     "data": {
      "image/png": "[encoded data removed]",
      "text/plain": [
       "<Figure size 432x288 with 2 Axes>"
      ]
     },
     "metadata": {
      "needs_background": "light"
     },
     "output_type": "display_data"
    }
   ],
   "source": [
    "from sklearn.metrics import plot_confusion_matrix\n",
    "%matplotlib inline\n",
    "import matplotlib.pyplot as plt\n",
    "plot_confusion_matrix(lr, X, y)\n",
    "plt.show()"
   ]
  },
  {
   "cell_type": "code",
   "execution_count": null,
   "metadata": {},
   "outputs": [],
   "source": []
  }
 ],
 "metadata": {
  "kernelspec": {
   "display_name": "Python 3",
   "language": "python",
   "name": "python3"
  },
  "language_info": {
   "codemirror_mode": {
    "name": "ipython",
    "version": 3
   },
   "file_extension": ".py",
   "mimetype": "text/x-python",
   "name": "python",
   "nbconvert_exporter": "python",
   "pygments_lexer": "ipython3",
   "version": "3.7.2"
  }
 },
 "nbformat": 4,
 "nbformat_minor": 2
}
