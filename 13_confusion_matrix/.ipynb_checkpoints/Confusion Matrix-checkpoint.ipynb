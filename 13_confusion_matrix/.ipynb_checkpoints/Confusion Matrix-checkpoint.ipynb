{
 "cells": [
  {
   "cell_type": "code",
   "execution_count": null,
   "metadata": {},
   "outputs": [],
   "source": [
    "import numpy as np\n",
    "X = np.array([.50,1.50,2.00,4.25,3.25,5.50], ndmin=2).reshape((6,1))\n",
    "y = np.array([0,0,0,1,1,1])\n",
    "X_mean = np.mean(X)\n",
    "y_mean = np.mean(y)\n",
    "n = len(X)\n",
    "class LogisticRegression:\n",
    "    b0 = 0\n",
    "    b1 = 0\n",
    "    def fit(self, X, y):\n",
    "        upward_function = 0\n",
    "        downward_function = 0\n",
    "        for i in range(n):\n",
    "            upward_function += (X[i]-X_mean)*(y[i]-y_mean)\n",
    "            downward_function += (X[i]-X_mean)**2\n",
    "        self.b1 = upward_function / downward_function\n",
    "        self.b0 = y_mean - (self.b1*X_mean)\n",
    "        return self.b0, self.b1\n",
    "    \n",
    "    def predict(self, Xi):\n",
    "        z = self.b0 + (self.b1*Xi)\n",
    "        sigmoid = 1/(1 + np.exp(-z))\n",
    "        if sigmoid >= 0.5:\n",
    "            y_pred = 1\n",
    "        else:\n",
    "            y_pred = 0\n",
    "        return sigmoid, y_pred\n",
    "    \n",
    "model = LogisticRegression()\n",
    "print(model.fit(X,y))\n",
    "model.predict(0.75)"
   ]
  }
 ],
 "metadata": {
  "kernelspec": {
   "display_name": "Python 3",
   "language": "python",
   "name": "python3"
  },
  "language_info": {
   "codemirror_mode": {
    "name": "ipython",
    "version": 3
   },
   "file_extension": ".py",
   "mimetype": "text/x-python",
   "name": "python",
   "nbconvert_exporter": "python",
   "pygments_lexer": "ipython3",
   "version": "3.7.2"
  }
 },
 "nbformat": 4,
 "nbformat_minor": 2
}
