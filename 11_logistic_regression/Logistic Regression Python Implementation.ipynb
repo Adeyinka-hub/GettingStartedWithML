{
 "cells": [
  {
   "cell_type": "code",
   "execution_count": 1,
   "metadata": {},
   "outputs": [],
   "source": [
    "import numpy as np\n",
    "X = np.array([.50,1.50,2.00,4.25,3.25,5.50], ndmin=2).reshape((6,1))\n",
    "y = np.array([0,0,0,1,1,1])\n",
    "X_mean = np.mean(X)\n",
    "y_mean = np.mean(y)\n",
    "n = len(X)"
   ]
  },
  {
   "cell_type": "code",
   "execution_count": 6,
   "metadata": {},
   "outputs": [
    {
     "name": "stdout",
     "output_type": "stream",
     "text": [
      "(array([-0.2409201]), array([0.26150121]))\n"
     ]
    },
    {
     "data": {
      "text/plain": [
       "(array([0.48880332]), 0)"
      ]
     },
     "execution_count": 6,
     "metadata": {},
     "output_type": "execute_result"
    }
   ],
   "source": [
    "class LogisticRegression:\n",
    "    b0 = 0\n",
    "    b1 = 0\n",
    "    def fit(self, X, y):\n",
    "        upward_function = 0\n",
    "        downward_function = 0\n",
    "        for i in range(n):\n",
    "            upward_function += (X[i]-X_mean)*(y[i]-y_mean)\n",
    "            downward_function += (X[i]-X_mean)**2\n",
    "        self.b1 = upward_function / downward_function\n",
    "        self.b0 = y_mean - (self.b1*X_mean)\n",
    "        return self.b0, self.b1\n",
    "    \n",
    "    def predict(self, Xi):\n",
    "        z = self.b0 + (self.b1*Xi)\n",
    "        sigmoid = 1/(1 + np.exp(-z))\n",
    "#         y_pred = sigmoid >= 0.5\n",
    "        if sigmoid >= 0.5:\n",
    "            y_pred = 1\n",
    "        else:\n",
    "            y_pred = 0\n",
    "        return sigmoid, y_pred\n",
    "    \n",
    "model = LogisticRegression()\n",
    "print(model.fit(X,y))\n",
    "model.predict(0.75)"
   ]
  },
  {
   "cell_type": "code",
   "execution_count": 7,
   "metadata": {},
   "outputs": [
    {
     "name": "stderr",
     "output_type": "stream",
     "text": [
      "c:\\users\\raunak\\appdata\\local\\programs\\python\\python37\\lib\\site-packages\\sklearn\\linear_model\\logistic.py:432: FutureWarning: Default solver will be changed to 'lbfgs' in 0.22. Specify a solver to silence this warning.\n",
      "  FutureWarning)\n"
     ]
    },
    {
     "data": {
      "text/plain": [
       "array([0])"
      ]
     },
     "execution_count": 7,
     "metadata": {},
     "output_type": "execute_result"
    }
   ],
   "source": [
    "from sklearn.linear_model import LogisticRegression\n",
    "lr = LogisticRegression()\n",
    "lr.fit(X, y)\n",
    "lr.predict([[0.75]])"
   ]
  },
  {
   "cell_type": "code",
   "execution_count": null,
   "metadata": {},
   "outputs": [],
   "source": []
  }
 ],
 "metadata": {
  "kernelspec": {
   "display_name": "Python 3",
   "language": "python",
   "name": "python3"
  },
  "language_info": {
   "codemirror_mode": {
    "name": "ipython",
    "version": 3
   },
   "file_extension": ".py",
   "mimetype": "text/x-python",
   "name": "python",
   "nbconvert_exporter": "python",
   "pygments_lexer": "ipython3",
   "version": "3.7.2"
  }
 },
 "nbformat": 4,
 "nbformat_minor": 2
}
