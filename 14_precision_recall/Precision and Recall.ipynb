{
 "cells": [
  {
   "cell_type": "code",
   "execution_count": 1,
   "metadata": {},
   "outputs": [
    {
     "name": "stdout",
     "output_type": "stream",
     "text": [
      "Precision :  0.6\n",
      "Recall : 1.0\n"
     ]
    }
   ],
   "source": [
    "import numpy as np\n",
    "y = np.array([0,0,0,1,1,1])\n",
    "y_pred = np.array([0,1,1,1,1,1])\n",
    "n = len(y)\n",
    "class Metrics:\n",
    "    true_positives = 0\n",
    "    true_negatives = 0\n",
    "    false_positives = 0\n",
    "    false_negatives = 0\n",
    "        \n",
    "    def confusion_matrix(self):\n",
    "        for i in range(n):\n",
    "            if y[i]==1 and y_pred[i]==1:\n",
    "                self.true_positives += 1\n",
    "            if y[i]==0 and y_pred[i]==0:\n",
    "                self.true_negatives += 1\n",
    "            if y[i]==1 and y_pred[i]==0:\n",
    "                self.false_negatives += 1\n",
    "            if y[i]==0 and y_pred[i]==1:\n",
    "                self.false_positives += 1\n",
    "                \n",
    "        matrix = np.array([self.true_positives, self.false_negatives, self.false_positives, self.true_negatives]).reshape((2,2))\n",
    "        return matrix\n",
    "    def precision(self):\n",
    "        precision = self.true_positives / (self.true_positives+self.false_positives)\n",
    "        print('Precision : ', precision)\n",
    "    \n",
    "    def recall(self):\n",
    "        recall = self.true_positives / (self.true_positives+self.false_negatives)\n",
    "        print('Recall :',recall)\n",
    "\n",
    "model = Metrics()\n",
    "model.confusion_matrix()\n",
    "model.precision()\n",
    "model.recall()"
   ]
  },
  {
   "cell_type": "code",
   "execution_count": 2,
   "metadata": {},
   "outputs": [
    {
     "data": {
      "text/plain": [
       "0.6"
      ]
     },
     "execution_count": 2,
     "metadata": {},
     "output_type": "execute_result"
    }
   ],
   "source": [
    "from sklearn.metrics import precision_score\n",
    "precision_score(y, y_pred)"
   ]
  },
  {
   "cell_type": "code",
   "execution_count": 3,
   "metadata": {},
   "outputs": [
    {
     "data": {
      "text/plain": [
       "1.0"
      ]
     },
     "execution_count": 3,
     "metadata": {},
     "output_type": "execute_result"
    }
   ],
   "source": [
    "from sklearn.metrics import recall_score\n",
    "recall_score(y, y_pred)"
   ]
  },
  {
   "cell_type": "code",
   "execution_count": null,
   "metadata": {},
   "outputs": [],
   "source": []
  }
 ],
 "metadata": {
  "kernelspec": {
   "display_name": "Python 3",
   "language": "python",
   "name": "python3"
  },
  "language_info": {
   "codemirror_mode": {
    "name": "ipython",
    "version": 3
   },
   "file_extension": ".py",
   "mimetype": "text/x-python",
   "name": "python",
   "nbconvert_exporter": "python",
   "pygments_lexer": "ipython3",
   "version": "3.7.2"
  }
 },
 "nbformat": 4,
 "nbformat_minor": 2
}
